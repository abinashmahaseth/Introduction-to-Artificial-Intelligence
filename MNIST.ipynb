{
  "nbformat": 4,
  "nbformat_minor": 0,
  "metadata": {
    "colab": {
      "provenance": [],
      "authorship_tag": "ABX9TyN97z+LoxNdoROhLQVu/Rwd",
      "include_colab_link": true
    },
    "kernelspec": {
      "name": "python3",
      "display_name": "Python 3"
    },
    "language_info": {
      "name": "python"
    }
  },
  "cells": [
    {
      "cell_type": "markdown",
      "metadata": {
        "id": "view-in-github",
        "colab_type": "text"
      },
      "source": [
        "<a href=\"https://colab.research.google.com/github/abinashmahaseth/Introduction-to-Artificial-Intelligence/blob/main/MNIST.ipynb\" target=\"_parent\"><img src=\"https://colab.research.google.com/assets/colab-badge.svg\" alt=\"Open In Colab\"/></a>"
      ]
    },
    {
      "cell_type": "code",
      "execution_count": 80,
      "metadata": {
        "id": "zG8S99NVhjiK"
      },
      "outputs": [],
      "source": [
        "from __future__ import absolute_import, division, print_function, unicode_literals\n",
        "import tensorflow as tf"
      ]
    },
    {
      "cell_type": "code",
      "source": [
        "#Once you have run this on your own system, you can try it on colab here:\n",
        "\n",
        "# https://www.tensorflow.org/tutorials/quickstart/beginner"
      ],
      "metadata": {
        "id": "MpCpDHZuiBFI"
      },
      "execution_count": 81,
      "outputs": []
    },
    {
      "cell_type": "code",
      "source": [
        "mnist = tf.keras.datasets.mnist\n",
        "(x_train, y_train), (x_test, y_test) = mnist.load_data()\n",
        "x_train, x_test = x_train / 255.0, x_test / 255.0"
      ],
      "metadata": {
        "id": "E4l2XBANi1f2"
      },
      "execution_count": 82,
      "outputs": []
    },
    {
      "cell_type": "code",
      "source": [
        "model = tf.keras.models.Sequential([\n",
        "    tf.keras.layers.Flatten(input_shape=(28, 28)),\n",
        "    tf.keras.layers.Dense(128, activation='relu'),\n",
        "    tf.keras.layers.Dropout(0.2),\n",
        "    tf.keras.layers.Dense(10)\n",
        "])"
      ],
      "metadata": {
        "id": "YaHZ8aCfjGrg"
      },
      "execution_count": 74,
      "outputs": []
    },
    {
      "cell_type": "code",
      "source": [
        "predictions = model(x_train[:1]).numpy()\n",
        "predictions"
      ],
      "metadata": {
        "colab": {
          "base_uri": "https://localhost:8080/"
        },
        "collapsed": true,
        "id": "58mchG6WjbTo",
        "outputId": "1af813fb-6b75-4a26-b32e-ce893bef178c"
      },
      "execution_count": 84,
      "outputs": [
        {
          "output_type": "execute_result",
          "data": {
            "text/plain": [
              "array([[ -8.236307 ,  -3.1597505,  -1.642349 ,   7.722394 , -19.587141 ,\n",
              "         13.3496275,  -9.947258 ,  -6.36517  ,  -8.432955 ,  -4.094386 ]],\n",
              "      dtype=float32)"
            ]
          },
          "metadata": {},
          "execution_count": 84
        }
      ]
    },
    {
      "cell_type": "code",
      "source": [
        "import numpy as np\n",
        "import tensorflow as tf\n",
        "\n",
        "predictions = np.array([[-0.17546329,  0.2482374 ,  0.42354129,  0.54829647, 0.17234826,\n",
        "                         -0.43298451,  0.13417561, -0.27681236,  0.36588764,  0.24120422]], dtype=np.float32)"
      ],
      "metadata": {
        "id": "tUsb7-a-kFf4"
      },
      "execution_count": 29,
      "outputs": []
    },
    {
      "cell_type": "code",
      "source": [
        "probabilities = tf.nn.softmax(predictions).numpy()\n"
      ],
      "metadata": {
        "id": "gAEBEb5lAdwP"
      },
      "execution_count": 28,
      "outputs": []
    },
    {
      "cell_type": "code",
      "source": [
        "import numpy as np\n",
        "\n",
        "# Define the logits array using numpy\n",
        "predictions = np.array([[0.07450406, 0.11176794, 0.14293542, 0.17100727, 0.06982524,\n",
        "                         0.03261602, 0.06436683, 0.05039296, 0.10005332, 0.06562393]], dtype=np.float32)\n"
      ],
      "metadata": {
        "id": "nJq0NzRNI_nx"
      },
      "execution_count": 32,
      "outputs": []
    },
    {
      "cell_type": "code",
      "source": [
        "loss_fn = tf.keras.losses.SparseCategoricalCrossentropy(from_logits=True)"
      ],
      "metadata": {
        "id": "tjnXxmHcJhB6"
      },
      "execution_count": 33,
      "outputs": []
    },
    {
      "cell_type": "code",
      "source": [
        "\n",
        "\n",
        "# Compute the loss for the first sample using the true label and predictions\n",
        "loss_value = loss_fn(y_train[:1], predictions).numpy()\n",
        "\n",
        "# Print the computed loss value\n",
        "print(\"Loss value for the first sample:\", loss_value)\n",
        "\n"
      ],
      "metadata": {
        "id": "SAauxVknKVZa"
      },
      "execution_count": null,
      "outputs": []
    },
    {
      "cell_type": "code",
      "source": [
        "1.9224709"
      ],
      "metadata": {
        "id": "3jLaGrezLzHj"
      },
      "execution_count": null,
      "outputs": []
    },
    {
      "cell_type": "code",
      "source": [
        "model.compile(optimizer='adam',\n",
        "              loss=loss_fn,\n",
        "              metrics=['accuracy'])\n",
        "\n",
        "\n"
      ],
      "metadata": {
        "id": "HPyUXBG0L6c6"
      },
      "execution_count": 52,
      "outputs": []
    },
    {
      "cell_type": "code",
      "source": [
        "# Fit the model (you can adjust the number of epochs)\n",
        "history = model.fit(x_train, y_train, epochs=5, verbose=1)\n",
        "\n",
        "\n",
        "# Print the loss and accuracy\n",
        "print(f'Loss: {loss_value}, Accuracy: {accuracy}')\n",
        "\n",
        "# Accessing and printing the history object\n",
        "print(\"\\nHistory object:\", history)\n",
        "\n",
        "\n",
        "\n"
      ],
      "metadata": {
        "colab": {
          "base_uri": "https://localhost:8080/"
        },
        "id": "2cVCD1nVMlxF",
        "outputId": "0a5049dc-8226-4b2b-e85f-19164d1364e9"
      },
      "execution_count": 63,
      "outputs": [
        {
          "output_type": "stream",
          "name": "stdout",
          "text": [
            "Epoch 1/5\n",
            "\u001b[1m1/1\u001b[0m \u001b[32m━━━━━━━━━━━━━━━━━━━━\u001b[0m\u001b[37m\u001b[0m \u001b[1m0s\u001b[0m 40ms/step - accuracy: 1.0000 - loss: 0.0141\n",
            "Epoch 2/5\n",
            "\u001b[1m1/1\u001b[0m \u001b[32m━━━━━━━━━━━━━━━━━━━━\u001b[0m\u001b[37m\u001b[0m \u001b[1m0s\u001b[0m 40ms/step - accuracy: 1.0000 - loss: 0.0069\n",
            "Epoch 3/5\n",
            "\u001b[1m1/1\u001b[0m \u001b[32m━━━━━━━━━━━━━━━━━━━━\u001b[0m\u001b[37m\u001b[0m \u001b[1m0s\u001b[0m 41ms/step - accuracy: 1.0000 - loss: 0.0037\n",
            "Epoch 4/5\n",
            "\u001b[1m1/1\u001b[0m \u001b[32m━━━━━━━━━━━━━━━━━━━━\u001b[0m\u001b[37m\u001b[0m \u001b[1m0s\u001b[0m 41ms/step - accuracy: 1.0000 - loss: 0.0021\n",
            "Epoch 5/5\n",
            "\u001b[1m1/1\u001b[0m \u001b[32m━━━━━━━━━━━━━━━━━━━━\u001b[0m\u001b[37m\u001b[0m \u001b[1m0s\u001b[0m 41ms/step - accuracy: 1.0000 - loss: 0.0013\n",
            "Loss: 0.014134535565972328, Accuracy: 1.0\n",
            "\n",
            "History object: <keras.src.callbacks.history.History object at 0x786b418e6b50>\n"
          ]
        }
      ]
    },
    {
      "cell_type": "code",
      "source": [
        "# Create the probability model with Softmax layer\n",
        "probability_model = tf.keras.Sequential([\n",
        "    model,\n",
        "    tf.keras.layers.Softmax()\n",
        "])\n",
        "\n",
        "# Example x_test to pass to the model for prediction\n",
        "x_test = np.random.rand(5, 784)  # Random input for 5 test samples\n",
        "\n",
        "# Get the predictions (probabilities) for the first 5 samples\n",
        "predictions_probabilities = probability_model(x_test)\n",
        "\n",
        "# Print the predictions (softmax probabilities)\n",
        "print(predictions_probabilities)\n"
      ],
      "metadata": {
        "colab": {
          "base_uri": "https://localhost:8080/"
        },
        "id": "GaZgXOjOQAUg",
        "outputId": "08f6984a-b684-49df-968f-98913d553c6c"
      },
      "execution_count": 65,
      "outputs": [
        {
          "output_type": "stream",
          "name": "stdout",
          "text": [
            "tf.Tensor(\n",
            "[[9.0462407e-03 3.8271805e-03 3.7947576e-03 9.6926528e-01 1.4459594e-03\n",
            "  4.4702939e-03 1.8479681e-03 2.2493138e-03 3.2946530e-03 7.5842155e-04]\n",
            " [3.6800732e-03 3.2825512e-03 2.1717104e-03 9.8108619e-01 1.6960469e-03\n",
            "  2.4490596e-03 7.1367127e-04 2.0476931e-03 2.6178844e-03 2.5512266e-04]\n",
            " [6.6674999e-03 4.1396664e-03 2.8055806e-03 9.7150707e-01 1.8536869e-03\n",
            "  4.4275224e-03 1.3297568e-03 3.9645857e-03 2.6473785e-03 6.5723323e-04]\n",
            " [2.0887220e-02 1.0769078e-02 4.6493425e-03 9.4009238e-01 2.7811611e-03\n",
            "  9.8926388e-03 1.5109307e-03 4.7521130e-03 3.6373846e-03 1.0277361e-03]\n",
            " [8.8202292e-03 6.5822066e-03 3.8263579e-03 9.6785998e-01 1.2815336e-03\n",
            "  3.4907747e-03 1.4680383e-03 2.7815560e-03 3.3810555e-03 5.0832651e-04]], shape=(5, 10), dtype=float32)\n"
          ]
        }
      ]
    }
  ]
}