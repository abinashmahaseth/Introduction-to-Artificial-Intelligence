{
 "cells": [
  {
   "cell_type": "code",
   "execution_count": 9,
   "metadata": {},
   "outputs": [
    {
     "name": "stdout",
     "output_type": "stream",
     "text": [
      "[[0.6286096  0.82265938 0.01207534 0.43920979 0.44837966 0.79851183\n",
      "  0.38779312 0.5856771  0.83988679 0.93269421]\n",
      " [0.96760692 0.24174105 0.09458453 0.60930958 0.99604677 0.37864238\n",
      "  0.74682913 0.62038825 0.63190315 0.13337391]\n",
      " [0.33693868 0.07137256 0.74250667 0.45013095 0.70352465 0.64321449\n",
      "  0.40786035 0.94557794 0.11046439 0.45084125]\n",
      " [0.20095332 0.44939237 0.39476758 0.00968639 0.14745692 0.4171814\n",
      "  0.9511369  0.89687701 0.26972577 0.39106756]\n",
      " [0.36700047 0.86117356 0.64196609 0.42710409 0.78093864 0.62878796\n",
      "  0.60006596 0.23011631 0.20517026 0.7130217 ]\n",
      " [0.17079394 0.39329345 0.13359526 0.72506875 0.2538507  0.64766812\n",
      "  0.04552676 0.56116117 0.23982825 0.55099705]\n",
      " [0.95179425 0.82862734 0.7687554  0.02753753 0.41260551 0.90009567\n",
      "  0.61460867 0.901524   0.57546022 0.01759565]\n",
      " [0.77358769 0.34937021 0.53868948 0.20443656 0.0410815  0.50937106\n",
      "  0.54686171 0.05207602 0.35733331 0.21208748]\n",
      " [0.16531765 0.44103137 0.34226996 0.49738609 0.12245547 0.55150231\n",
      "  0.86826513 0.75165413 0.16458384 0.10511415]\n",
      " [0.1014888  0.91792845 0.38392822 0.87984243 0.8290413  0.08962773\n",
      "  0.11513673 0.04614372 0.96618053 0.74919795]]\n"
     ]
    },
    {
     "data": {
      "image/png": "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\n",
      "text/plain": [
       "<Figure size 432x288 with 1 Axes>"
      ]
     },
     "metadata": {
      "needs_background": "light"
     },
     "output_type": "display_data"
    }
   ],
   "source": [
    "# Pixel pushing in numpy\n",
    "# This is just to get you in to the way numpy works\n",
    "# It will be helpful for getting you up to speed\n",
    "# Using Tensorflow or Pytorch without knowing numpy first is not great\n",
    "# Some useful extra reading is available here:\n",
    "# http://cs231n.github.io/python-numpy-tutorial/\n",
    "\n",
    "# We can use matplotlib to draw images\n",
    "from matplotlib import pyplot as plt\n",
    "\n",
    "# We're going to do everything in numpy\n",
    "import numpy as np\n",
    "\n",
    "# math!\n",
    "import math\n",
    "\n",
    "# randomly initialise an image 10 * 10 pixels\n",
    "my_array = np.random.random((10,10)) \n",
    "\n",
    "print (my_array)\n",
    "\n",
    "# Also use 'full' or 'ones' or 'zeros' \n",
    "# y = np.zeros((10,10)) # also try 'full((10,10),0.5)' or 'ones'\n",
    "\n",
    "# cmap sets the colourmap - https://matplotlib.org/examples/color/colormaps_reference.html\n",
    "# cmap is ignored for datasets with rank of 3 or 4, as these are assumed to be RGB(a)\n",
    "# interpolation is used when the number of pixels in the array \n",
    "# is such that it can't be shown properly given the size of the plot\n",
    "# you need to set the lower and upper limits with clim !!!\n",
    "\n",
    "plt.imshow(my_array,  cmap='gray', clim=(0,1)) \n",
    "plt.show()\n"
   ]
  },
  {
   "cell_type": "code",
   "execution_count": 23,
   "metadata": {
    "scrolled": true
   },
   "outputs": [
    {
     "data": {
      "image/png": "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\n",
      "text/plain": [
       "<Figure size 432x288 with 1 Axes>"
      ]
     },
     "metadata": {
      "needs_background": "light"
     },
     "output_type": "display_data"
    }
   ],
   "source": [
    "myImage = np.zeros((10,10))\n",
    "\n",
    "myImage[1,0]=1\n",
    "\n",
    "#print(myImage)\n",
    "\n",
    "plt.imshow(myImage, clim=(0,1),cmap=\"gray\")\n",
    "plt.show()"
   ]
  },
  {
   "cell_type": "code",
   "execution_count": 18,
   "metadata": {},
   "outputs": [
    {
     "data": {
      "image/png": "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\n",
      "text/plain": [
       "<Figure size 432x288 with 1 Axes>"
      ]
     },
     "metadata": {
      "needs_background": "light"
     },
     "output_type": "display_data"
    }
   ],
   "source": [
    "# drawing a circle\n",
    "# looks terrible doesn't it?\n",
    "\n",
    "# so numpy arrays are column major, not row major.\n",
    "# So you need to do height first\n",
    "myImage = np.zeros((240,320))\n",
    "\n",
    "# This code is exactly the same as the the code frmo\n",
    "TWO_PI = 3.14159 * 2\n",
    "segments = 600\n",
    "spacing = TWO_PI / segments\n",
    "size = 30\n",
    "\n",
    "for i in range(segments):\n",
    "    x = math.cos(spacing * i) * size\n",
    "    y = math.sin(spacing * i) * size\n",
    "    myImage[math.floor(y) + 50, math.floor(x) + 50] = 1 # notice we need to floor the output to ints\n",
    "    \n",
    "plt.imshow(myImage, interpolation=\"bilinear\", clim=(0,1),cmap=\"gray\")\n",
    "plt.show()"
   ]
  },
  {
   "cell_type": "code",
   "execution_count": 20,
   "metadata": {},
   "outputs": [
    {
     "data": {
      "image/png": "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\n",
      "text/plain": [
       "<Figure size 432x288 with 1 Axes>"
      ]
     },
     "metadata": {
      "needs_background": "light"
     },
     "output_type": "display_data"
    }
   ],
   "source": [
    "\n",
    "myImage = np.zeros((240,320))\n",
    "\n",
    "# This code is exactly the same as the the code from our JS and C++ examples\n",
    "TWO_PI = 3.14159 * 2\n",
    "segments = 600\n",
    "spacing = TWO_PI * 2 / segments\n",
    "size = 40\n",
    "centre = 150\n",
    "\n",
    "for i in range(240):\n",
    "    for j in range(320):\n",
    "        if abs(centre-i) < size and abs(centre-j) < size:\n",
    "            myImage[i,j]=1\n",
    "            \n",
    "plt.imshow(myImage, clim=(0,1),cmap=\"gray\")\n",
    "plt.show()"
   ]
  },
  {
   "cell_type": "code",
   "execution_count": 21,
   "metadata": {},
   "outputs": [
    {
     "data": {
      "image/png": "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\n",
      "text/plain": [
       "<Figure size 432x288 with 1 Axes>"
      ]
     },
     "metadata": {
      "needs_background": "light"
     },
     "output_type": "display_data"
    }
   ],
   "source": [
    "myImage = np.zeros((240,320))\n",
    "\n",
    "# This code is exactly the same as the the code from our JS and C++ examples\n",
    "\n",
    "centre = 100\n",
    "size = 50\n",
    "\n",
    "for i in range(240):\n",
    "    for j in range(320):\n",
    "        x_dist = abs(centre-i)\n",
    "        y_dist = abs(centre-j)\n",
    "        dist = math.sqrt(x_dist * x_dist + y_dist * y_dist)\n",
    "        if dist < size:\n",
    "            myImage[i,j] = 1\n",
    "            \n",
    "#plt.imshow(myImage, clim=(0,1),cmap=\"gray\")\n",
    "plt.imshow(myImage, interpolation=\"bilinear\", clim=(0,1), cmap=\"gray\")\n",
    "plt.show()"
   ]
  },
  {
   "cell_type": "code",
   "execution_count": 6,
   "metadata": {},
   "outputs": [
    {
     "name": "stdout",
     "output_type": "stream",
     "text": [
      "28.284271247461902\n"
     ]
    }
   ],
   "source": [
    "centre = 100\n",
    "\n",
    "# This is actually five times slower\n",
    "# but it is easier to write if you are operating in high dimensions.\n",
    "\n",
    "positions=np.array([[30,40],[50,60]])\n",
    "# using built in np function for normalised distance\n",
    "distance = np.linalg.norm(positions[0:1] - positions[1:2])\n",
    "print (distance)\n"
   ]
  },
  {
   "cell_type": "code",
   "execution_count": 22,
   "metadata": {
    "scrolled": true
   },
   "outputs": [
    {
     "data": {
      "image/png": "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\n",
      "text/plain": [
       "<Figure size 432x288 with 1 Axes>"
      ]
     },
     "metadata": {
      "needs_background": "light"
     },
     "output_type": "display_data"
    }
   ],
   "source": [
    "myImage = np.zeros((240,320))\n",
    "\n",
    "# uses numpy distance measures but is lots slower..\n",
    "\n",
    "centre = 100\n",
    "size = 50\n",
    "\n",
    "for i in range(240):\n",
    "    for j in range(320):\n",
    "        positions=np.array([[i,j],[abs(centre-i),abs(centre-j)]])\n",
    "        distance = np.linalg.norm(positions[0:1] - positions[1:2])\n",
    "        if distance < size:\n",
    "            myImage[i,j] = 1\n",
    "            \n",
    "plt.imshow(myImage, clim=(0,1),cmap=\"gray\")\n",
    "plt.imshow(myImage, interpolation=\"bilinear\", clim=(0,1), cmap=\"gray\")\n",
    "plt.show()"
   ]
  },
  {
   "cell_type": "code",
   "execution_count": 7,
   "metadata": {},
   "outputs": [
    {
     "data": {
      "image/png": "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\n",
      "text/plain": [
       "<Figure size 432x288 with 1 Axes>"
      ]
     },
     "metadata": {
      "needs_background": "light"
     },
     "output_type": "display_data"
    }
   ],
   "source": [
    "myImage = np.zeros((240,320))\n",
    "\n",
    "# This code is exactly the same as the the code from our JS and C++ examples\n",
    "\n",
    "width_frequency = 3.14159/240\n",
    "\n",
    "frequency = width_frequency * 3\n",
    "\n",
    "for i in range(240):\n",
    "    for j in range(320):\n",
    "        t = math.sin(math.sqrt(i * i + j * j) * frequency)\n",
    "        myImage[i,j]=t\n",
    "            \n",
    "plt.imshow(myImage, clim=(0,1),cmap=\"gray\")\n",
    "plt.imshow(myImage, interpolation=\"bilinear\", clim=(0,1),cmap=\"gray\")\n",
    "plt.show()"
   ]
  },
  {
   "cell_type": "code",
   "execution_count": 8,
   "metadata": {},
   "outputs": [
    {
     "data": {
      "image/png": "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\n",
      "text/plain": [
       "<Figure size 432x288 with 1 Axes>"
      ]
     },
     "metadata": {
      "needs_background": "light"
     },
     "output_type": "display_data"
    }
   ],
   "source": [
    "myImage = np.zeros((240,320))\n",
    "\n",
    "# This code is exactly the same as the the code from our JS and C++ examples\n",
    "\n",
    "PI = 3.14159\n",
    "\n",
    "width_frequency = 3.14159 / 320\n",
    "\n",
    "frequency = width_frequency * 5000\n",
    "\n",
    "for i in range(240):\n",
    "    for j in range(320):\n",
    "        t = math.tan(i / frequency) * math.cos(j / frequency) + math.atan(j / frequency) * math.cos(i / frequency);\n",
    "        myImage[i,j]=t\n",
    "            \n",
    "plt.imshow(myImage, clim=(0,1),cmap=\"gray\")\n",
    "plt.imshow(myImage, interpolation=\"bilinear\", clim=(0,1),cmap=\"gray\")\n",
    "plt.show()"
   ]
  },
  {
   "cell_type": "code",
   "execution_count": null,
   "metadata": {},
   "outputs": [],
   "source": []
  }
 ],
 "metadata": {
  "kernelspec": {
   "display_name": "Python 3",
   "language": "python",
   "name": "python3"
  },
  "language_info": {
   "codemirror_mode": {
    "name": "ipython",
    "version": 3
   },
   "file_extension": ".py",
   "mimetype": "text/x-python",
   "name": "python",
   "nbconvert_exporter": "python",
   "pygments_lexer": "ipython3",
   "version": "3.8.5"
  }
 },
 "nbformat": 4,
 "nbformat_minor": 2
}
# Cell 6: Custom grid pattern with sine and cosine waves
import numpy as np
import matplotlib.pyplot as plt

# Create a 240x320 array
myImage = np.zeros((240, 320))

# Vectorized computation
i, j = np.indices((240, 320))
f = 20.0  # Frequency for wave spacing

# Compute the custom expression
t = np.sin(i / f) + np.cos(j / f)

# Normalize to [0, 1]
myImage = (t + 2) / 4

# Display the pattern
plt.imshow(myImage, cmap='gray', clim=(0, 1), interpolation='bilinear')
plt.title('Custom Sine-Cosine Grid Pattern')
plt.colorbar()
plt.show()

